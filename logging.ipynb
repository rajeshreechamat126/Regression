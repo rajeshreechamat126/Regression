{
 "cells": [
  {
   "cell_type": "code",
   "execution_count": 4,
   "id": "34ea85b2-721c-415d-ab80-543e7e4dd214",
   "metadata": {},
   "outputs": [],
   "source": [
    "\n",
    "import os \n",
    "import logging \n",
    "\n",
    "logger=logging.getLogger(__name__)\n",
    "logger.setLevel(logging.DEBUG)\n",
    "\n",
    "f=logging.Formatter('%(asctime)s.%(levelname)s.%(message)s')\n",
    "\n",
    "fh=logging.FileHandler('saveTofile.log')\n",
    "fh.setFormatter(f)\n",
    "\n",
    "logger.addHandler(fh)\n",
    "\n",
    "#logging.basicCongig(filename='saveTofile.log',level=logging.DEBUG,format='%(asctime)s.%(levelname)s.%(message)s')"
   ]
  },
  {
   "cell_type": "code",
   "execution_count": 9,
   "id": "338c90f3-0cfa-4041-ad16-9b39395f6f9f",
   "metadata": {},
   "outputs": [],
   "source": [
    "def namecheck(name):\n",
    "    logger.debug(f'checking name \"{name}\"....')\n",
    "    if os.path.exists('date.txt'):\n",
    "        with open('date.txt','r') as readFile:\n",
    "            for line in readFile:\n",
    "                if line.lower().startwith(f'name: {name.lower()}'):\n",
    "                    logger.error(f'Name: \"{name}\" already exists')\n",
    "                    return False\n",
    "                elif not name.isalpha():\n",
    "                    logger.critical('name must be an alphabet')\n",
    "                    return False\n",
    "                else:\n",
    "                    logger.error(f'check successful')\n",
    "                    return True\n",
    "             \n",
    "    else:\n",
    "        logger.debug('No date found')\n",
    "        return True\n",
    "    "
   ]
  },
  {
   "cell_type": "code",
   "execution_count": 10,
   "id": "bc63c115-3a95-45ce-8ef3-b7d2314ca837",
   "metadata": {},
   "outputs": [],
   "source": [
    "def saveData(name,age,email):\n",
    "    logger.debug(f'Saving details of {name}...')\n",
    "    with open('date.txt','a') as appendFile:\n",
    "        appendFile.Write(f'Name: {name} - Age: {age} - Email: {email}\\n')\n",
    "        print(f'Details saved successfully')\n",
    "        \n",
    "logger.info('End of saveToFile program')\n",
    "logger.debug('########################')\n"
   ]
  },
  {
   "cell_type": "code",
   "execution_count": null,
   "id": "9a7c64bb-cac2-4ae5-aa39-ca7b853f5824",
   "metadata": {},
   "outputs": [],
   "source": []
  }
 ],
 "metadata": {
  "kernelspec": {
   "display_name": "Python 3 (ipykernel)",
   "language": "python",
   "name": "python3"
  },
  "language_info": {
   "codemirror_mode": {
    "name": "ipython",
    "version": 3
   },
   "file_extension": ".py",
   "mimetype": "text/x-python",
   "name": "python",
   "nbconvert_exporter": "python",
   "pygments_lexer": "ipython3",
   "version": "3.10.6"
  },
  "toc-autonumbering": false,
  "toc-showcode": true
 },
 "nbformat": 4,
 "nbformat_minor": 5
}
